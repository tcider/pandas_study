{
 "cells": [
  {
   "cell_type": "markdown",
   "metadata": {
    "toc": true
   },
   "source": [
    "<h1>Table of Contents<span class=\"tocSkip\"></span></h1>\n",
    "<div class=\"toc\"><ul class=\"toc-item\"><li><span><a href=\"#-Homework-1-(Topics-1-4:-Data-Structures,-Indexing,-Cleaning-Data,-Math)\" data-toc-modified-id=\"-Homework-1-(Topics-1-4:-Data-Structures,-Indexing,-Cleaning-Data,-Math)-1\"><span class=\"toc-item-num\">1&nbsp;&nbsp;</span><center> Homework 1 (Topics 1-4: Data Structures, Indexing, Cleaning Data, Math)</center></a></span><ul class=\"toc-item\"><li><ul class=\"toc-item\"><li><ul class=\"toc-item\"><li><span><a href=\"#Task-1.\" data-toc-modified-id=\"Task-1.-1.0.0.1\"><span class=\"toc-item-num\">1.0.0.1&nbsp;&nbsp;</span>Task 1.</a></span></li><li><span><a href=\"#Варианты-ответов:\" data-toc-modified-id=\"Варианты-ответов:-1.0.0.2\"><span class=\"toc-item-num\">1.0.0.2&nbsp;&nbsp;</span>Варианты ответов:</a></span></li><li><span><a href=\"#Task-2.\" data-toc-modified-id=\"Task-2.-1.0.0.3\"><span class=\"toc-item-num\">1.0.0.3&nbsp;&nbsp;</span>Task 2.</a></span></li><li><span><a href=\"#Вопросы:\" data-toc-modified-id=\"Вопросы:-1.0.0.4\"><span class=\"toc-item-num\">1.0.0.4&nbsp;&nbsp;</span>Вопросы:</a></span></li><li><span><a href=\"#Task-3.\" data-toc-modified-id=\"Task-3.-1.0.0.5\"><span class=\"toc-item-num\">1.0.0.5&nbsp;&nbsp;</span>Task 3.</a></span></li><li><span><a href=\"#Выберите-все-верные-пункты:\" data-toc-modified-id=\"Выберите-все-верные-пункты:-1.0.0.6\"><span class=\"toc-item-num\">1.0.0.6&nbsp;&nbsp;</span>Выберите все верные пункты:</a></span></li><li><span><a href=\"#Task-4.\" data-toc-modified-id=\"Task-4.-1.0.0.7\"><span class=\"toc-item-num\">1.0.0.7&nbsp;&nbsp;</span>Task 4.</a></span></li><li><span><a href=\"#Пояснения:\" data-toc-modified-id=\"Пояснения:-1.0.0.8\"><span class=\"toc-item-num\">1.0.0.8&nbsp;&nbsp;</span>Пояснения:</a></span></li></ul></li><li><span><a href=\"#Информация-для-последующих-заданий\" data-toc-modified-id=\"Информация-для-последующих-заданий-1.0.1\"><span class=\"toc-item-num\">1.0.1&nbsp;&nbsp;</span>Информация для последующих заданий</a></span></li></ul></li><li><span><a href=\"#Описание-данных\" data-toc-modified-id=\"Описание-данных-1.1\"><span class=\"toc-item-num\">1.1&nbsp;&nbsp;</span>Описание данных</a></span><ul class=\"toc-item\"><li><span><a href=\"#Таблица-transactions.csv\" data-toc-modified-id=\"Таблица-transactions.csv-1.1.1\"><span class=\"toc-item-num\">1.1.1&nbsp;&nbsp;</span>Таблица <code>transactions.csv</code></a></span></li><li><span><a href=\"#Таблица-gender_train.csv\" data-toc-modified-id=\"Таблица-gender_train.csv-1.1.2\"><span class=\"toc-item-num\">1.1.2&nbsp;&nbsp;</span>Таблица <code>gender_train.csv</code></a></span></li><li><span><a href=\"#Таблица-tr_mcc_codes.csv\" data-toc-modified-id=\"Таблица-tr_mcc_codes.csv-1.1.3\"><span class=\"toc-item-num\">1.1.3&nbsp;&nbsp;</span>Таблица <code>tr_mcc_codes.csv</code></a></span></li><li><span><a href=\"#Таблица-tr_types.csv\" data-toc-modified-id=\"Таблица-tr_types.csv-1.1.4\"><span class=\"toc-item-num\">1.1.4&nbsp;&nbsp;</span>Таблица <code>tr_types.csv</code></a></span><ul class=\"toc-item\"><li><span><a href=\"#Task-5.\" data-toc-modified-id=\"Task-5.-1.1.4.1\"><span class=\"toc-item-num\">1.1.4.1&nbsp;&nbsp;</span>Task 5.</a></span></li><li><span><a href=\"#Task-6.\" data-toc-modified-id=\"Task-6.-1.1.4.2\"><span class=\"toc-item-num\">1.1.4.2&nbsp;&nbsp;</span>Task 6.</a></span></li><li><span><a href=\"#Выберите-все-верные-пункты:\" data-toc-modified-id=\"Выберите-все-верные-пункты:-1.1.4.3\"><span class=\"toc-item-num\">1.1.4.3&nbsp;&nbsp;</span>Выберите все верные пункты:</a></span></li><li><span><a href=\"#Task-7.\" data-toc-modified-id=\"Task-7.-1.1.4.4\"><span class=\"toc-item-num\">1.1.4.4&nbsp;&nbsp;</span>Task 7.</a></span></li><li><span><a href=\"#Выберите-все-верные-пункты:\" data-toc-modified-id=\"Выберите-все-верные-пункты:-1.1.4.5\"><span class=\"toc-item-num\">1.1.4.5&nbsp;&nbsp;</span>Выберите все верные пункты:</a></span></li><li><span><a href=\"#Task-8.\" data-toc-modified-id=\"Task-8.-1.1.4.6\"><span class=\"toc-item-num\">1.1.4.6&nbsp;&nbsp;</span>Task 8.</a></span></li></ul></li></ul></li></ul></li></ul></div>"
   ]
  },
  {
   "cell_type": "markdown",
   "metadata": {},
   "source": [
    "# <center> Homework 1 (Topics 1-4: Data Structures, Indexing, Cleaning Data, Math)"
   ]
  },
  {
   "cell_type": "code",
   "execution_count": 11,
   "metadata": {
    "ExecuteTime": {
     "end_time": "2020-04-23T10:16:05.965275Z",
     "start_time": "2020-04-23T10:16:05.312704Z"
    }
   },
   "outputs": [
    {
     "ename": "TypeError",
     "evalue": "f() got an unexpected keyword argument 'name'",
     "output_type": "error",
     "traceback": [
      "\u001b[1;31m---------------------------------------------------------------------------\u001b[0m",
      "\u001b[1;31mTypeError\u001b[0m                                 Traceback (most recent call last)",
      "\u001b[1;32m<ipython-input-11-1b6d17b111d4>\u001b[0m in \u001b[0;36m<module>\u001b[1;34m\u001b[0m\n\u001b[0;32m      9\u001b[0m \u001b[0mdf\u001b[0m \u001b[1;33m=\u001b[0m \u001b[0mpd\u001b[0m\u001b[1;33m.\u001b[0m\u001b[0mDataFrame\u001b[0m\u001b[1;33m(\u001b[0m\u001b[1;33m{\u001b[0m\u001b[1;34m'count'\u001b[0m\u001b[1;33m:\u001b[0m \u001b[1;33m[\u001b[0m\u001b[1;34m'Kz'\u001b[0m\u001b[1;33m,\u001b[0m \u001b[1;34m'Ru'\u001b[0m\u001b[1;33m,\u001b[0m \u001b[1;34m'Dlr'\u001b[0m\u001b[1;33m,\u001b[0m \u001b[1;34m'Ukr'\u001b[0m\u001b[1;33m]\u001b[0m\u001b[1;33m,\u001b[0m \u001b[1;34m'pop'\u001b[0m\u001b[1;33m:\u001b[0m \u001b[1;33m[\u001b[0m\u001b[1;36m23\u001b[0m\u001b[1;33m,\u001b[0m\u001b[1;36m34\u001b[0m\u001b[1;33m,\u001b[0m\u001b[1;36m56\u001b[0m\u001b[1;33m,\u001b[0m\u001b[1;36m67\u001b[0m\u001b[1;33m]\u001b[0m\u001b[1;33m,\u001b[0m \u001b[1;34m'sq'\u001b[0m\u001b[1;33m:\u001b[0m \u001b[1;33m[\u001b[0m\u001b[1;36m3465\u001b[0m\u001b[1;33m,\u001b[0m\u001b[1;36m564\u001b[0m\u001b[1;33m,\u001b[0m\u001b[1;36m64\u001b[0m\u001b[1;33m,\u001b[0m\u001b[1;36m635\u001b[0m\u001b[1;33m]\u001b[0m\u001b[1;33m}\u001b[0m\u001b[1;33m)\u001b[0m\u001b[1;33m\u001b[0m\u001b[1;33m\u001b[0m\u001b[0m\n\u001b[0;32m     10\u001b[0m \u001b[0mdf\u001b[0m\u001b[1;33m.\u001b[0m\u001b[0mindex\u001b[0m \u001b[1;33m=\u001b[0m \u001b[1;33m[\u001b[0m\u001b[1;34m'kz'\u001b[0m\u001b[1;33m,\u001b[0m \u001b[1;34m'ru'\u001b[0m\u001b[1;33m,\u001b[0m \u001b[1;34m'by'\u001b[0m\u001b[1;33m,\u001b[0m \u001b[1;34m'ua'\u001b[0m\u001b[1;33m]\u001b[0m\u001b[1;33m\u001b[0m\u001b[1;33m\u001b[0m\u001b[0m\n\u001b[1;32m---> 11\u001b[1;33m \u001b[0mdf\u001b[0m\u001b[1;33m.\u001b[0m\u001b[0madd\u001b[0m\u001b[1;33m(\u001b[0m\u001b[0mname\u001b[0m\u001b[1;33m=\u001b[0m\u001b[1;34m'ergf'\u001b[0m\u001b[1;33m)\u001b[0m\u001b[1;33m\u001b[0m\u001b[1;33m\u001b[0m\u001b[0m\n\u001b[0m\u001b[0;32m     12\u001b[0m \u001b[0mdf\u001b[0m\u001b[1;33m\u001b[0m\u001b[1;33m\u001b[0m\u001b[0m\n",
      "\u001b[1;31mTypeError\u001b[0m: f() got an unexpected keyword argument 'name'"
     ]
    }
   ],
   "source": [
    "import pandas as pd\n",
    "import numpy as np\n",
    "\n",
    "\n",
    "s = pd.Series({'a': 5, 'b': 3, 'c': 4})\n",
    "ss = pd.Series([5,6,7,8,9,10], index = ['a', 'b', 'c', 'd', 'e','f'])\n",
    "ss[['a', 'b', 'f']] = 0\n",
    "ss[ss > 0] * 2\n",
    "df = pd.DataFrame({'count': ['Kz', 'Ru', 'Dlr', 'Ukr'], 'pop': [23,34,56,67], 'sq': [3465,564,64,635]})\n",
    "df.index = ['kz', 'ru', 'by', 'ua']\n",
    "df.add(name='ergf')\n",
    "df"
   ]
  },
  {
   "cell_type": "markdown",
   "metadata": {},
   "source": [
    "#### Task 1. \n",
    "Задание:\n",
    "\n",
    "1. Создайте Series из последовательности 15 значений, равномерно разбивающих отрезок [0, 20] (воспользуйтесь функцией linspace)\n",
    "2. Определите отношение элементов полученной серии к их предыдущим элементам (\\*). \n",
    "3. В результате необходимо получить среднее полученного вектора, оставив в нём только те значения, которые не более чем 1.5 (\\**). \n",
    "\n",
    "Выберите из ответов тот, который максимально близок к полученному (c точки зрения абсолютной разницы).\n",
    "\n",
    "#### Варианты ответов:\n",
    "    - 1) 1.24\n",
    "    - 2) 1.18 +\n",
    "    - 3) 0.71\n",
    "    - 4) 1.13\n",
    "\n",
    "\n",
    "##### Пояснения:\n",
    "(\\*) Если было бы необходимо найти последовательность из 3-х значений,  \n",
    "равномерно разбивающих отрезок [0,1], то это были бы значения [0, 0.5, 1]. \n",
    "\n",
    "(\\**) Если был бы дан список элементов a = [1,2,3,12], отношения элементов к предыдущим будут равны [NaN, 2, 1.5, 4].  \n",
    "А на последнем этапе в таком примере останется только [1.5] и среднее значение будет также 1.5."
   ]
  },
  {
   "cell_type": "code",
   "execution_count": 2,
   "metadata": {
    "ExecuteTime": {
     "end_time": "2020-04-23T10:13:26.017568Z",
     "start_time": "2020-04-23T10:13:26.014793Z"
    }
   },
   "outputs": [
    {
     "data": {
      "text/plain": [
       "1.181677812927813"
      ]
     },
     "execution_count": 2,
     "metadata": {},
     "output_type": "execute_result"
    }
   ],
   "source": [
    "### Type your code here\n",
    "s = pd.Series(np.linspace(0, 20, 15))\n",
    "s1 = s.pct_change() + 1\n",
    "s2  = s1[s1 <= 1.5]\n",
    "s2.mean()"
   ]
  },
  {
   "cell_type": "markdown",
   "metadata": {},
   "source": [
    "#### Task 2. \n",
    "Выберите все верные ответы касательно следующих 3-х Series:\n",
    "    - pd.Series('abcde'); (1) \n",
    "    - pd.Series(['abcde']); (2) \n",
    "    - pd.Series(list('abcde')); (3)\n",
    "    - pd.Series(\"abcde\"); (4)\n",
    "    \n",
    "##### Пояснения:\n",
    "(\\*)\n",
    "- функция list: в строке каждый символ - это отдельный элемент для list\n",
    "- квадратные скобки: в квадратных скобках списку передается множество элементов по отдельности через запятую\n",
    "\n",
    "\n",
    "#### Вопросы:\n",
    "    - 1) Серия (1) совпадает с серией (2), так как в каждом из случаев серия создаётся из списка строк +\n",
    "    - 2) Серия (2) совпадает с серией (3), так как в каждом из случаев серия создаётся из списка символов \n",
    "    - 3) Серия (1) не совпадает с серией (4), так как в (4) используются двойные кавычки \"\" вместо одинарных '' "
   ]
  },
  {
   "cell_type": "code",
   "execution_count": 3,
   "metadata": {},
   "outputs": [
    {
     "data": {
      "text/plain": [
       "0    abcde\n",
       "dtype: object"
      ]
     },
     "execution_count": 3,
     "metadata": {},
     "output_type": "execute_result"
    }
   ],
   "source": [
    "s = pd.Series('abcde')\n",
    "s"
   ]
  },
  {
   "cell_type": "code",
   "execution_count": 4,
   "metadata": {},
   "outputs": [
    {
     "data": {
      "text/plain": [
       "0    abcde\n",
       "dtype: object"
      ]
     },
     "execution_count": 4,
     "metadata": {},
     "output_type": "execute_result"
    }
   ],
   "source": [
    "s = pd.Series(['abcde'])\n",
    "s"
   ]
  },
  {
   "cell_type": "code",
   "execution_count": 5,
   "metadata": {},
   "outputs": [
    {
     "data": {
      "text/plain": [
       "0    a\n",
       "1    b\n",
       "2    c\n",
       "3    d\n",
       "4    e\n",
       "dtype: object"
      ]
     },
     "execution_count": 5,
     "metadata": {},
     "output_type": "execute_result"
    }
   ],
   "source": [
    "s = pd.Series(list('abcde'))\n",
    "s"
   ]
  },
  {
   "cell_type": "code",
   "execution_count": 6,
   "metadata": {},
   "outputs": [
    {
     "data": {
      "text/plain": [
       "0    abcde\n",
       "dtype: object"
      ]
     },
     "execution_count": 6,
     "metadata": {},
     "output_type": "execute_result"
    }
   ],
   "source": [
    "s = pd.Series(\"abcde\")\n",
    "s"
   ]
  },
  {
   "cell_type": "markdown",
   "metadata": {},
   "source": [
    "#### Task 3. \n",
    "\n",
    "По клиенту получены зашумленные данные (объект s типа Series) по его транзакциям. \n",
    "\n",
    "Для заданного ниже объекта s проделайте следующее:\n",
    "1. Создайте новый Series, значения которого совпадают со значениями s, а индексы - целочисленные значения от 2 до 12, не включая 12. \n",
    "2. Выберите из s элементы с индексами 3 и 5, после чего просуммируйте их, сохранив результат (1). \n",
    "3. Выберите из s только целочисленные элементы и вычислите их дисперсию (2). (\\*)\n",
    "\n",
    "Все полученные результаты округлите до 2-х знаков после запятой.\n",
    "\n",
    "#### Выберите все верные пункты:\n",
    "    - 1) Ответ (1) - 642.52\n",
    "    - 2) Ответ (1) - 91.78\n",
    "    + 3) Ответ (1) - не может быть определён\n",
    "    + 4) Ответ (2) - 57591.19\n",
    "    - 5) Ответ (2) - 210.12\n",
    "    - 6) Ответ (2) - не может быть определён\n",
    "\n",
    "##### Пояснения:\n",
    "(\\*) Целочисленные значения - значения, имеющие тип int.\n",
    "- Дисперсия рассчитывается с помощью функции из библиотеки numpy: np.var( , ddof=0) или встроенной в python функции: .var(ddof=1)"
   ]
  },
  {
   "cell_type": "code",
   "execution_count": 7,
   "metadata": {
    "ExecuteTime": {
     "end_time": "2020-04-23T10:17:18.795695Z",
     "start_time": "2020-04-23T10:17:18.791449Z"
    }
   },
   "outputs": [
    {
     "data": {
      "text/plain": [
       "2         1\n",
       "3         2\n",
       "4       3.1\n",
       "5       hi!\n",
       "6         5\n",
       "7      -512\n",
       "8     12.42\n",
       "9      sber\n",
       "10     10.1\n",
       "11       98\n",
       "dtype: object"
      ]
     },
     "execution_count": 7,
     "metadata": {},
     "output_type": "execute_result"
    }
   ],
   "source": [
    "s = pd.Series(data=['1', 2, 3.1, 'hi!', 5, -512, 12.42, 'sber', 10.10, 98], \n",
    "              index=range(6, 26, 2))\n",
    "### Type your code here\n",
    "s2 = s.copy()\n",
    "s2.index=range(2, 12)\n",
    "#tmp = s.loc[3] + s.loc[5]\n",
    "s2\n"
   ]
  },
  {
   "cell_type": "code",
   "execution_count": 8,
   "metadata": {},
   "outputs": [
    {
     "data": {
      "text/plain": [
       "2        1\n",
       "3        2\n",
       "6        5\n",
       "7     -512\n",
       "11      98\n",
       "dtype: object"
      ]
     },
     "execution_count": 8,
     "metadata": {},
     "output_type": "execute_result"
    }
   ],
   "source": [
    "s2[2] = 1\n",
    "s3 = s2.loc[s2.apply(lambda x: isinstance(x, int))]\n",
    "\n",
    "s3"
   ]
  },
  {
   "cell_type": "code",
   "execution_count": 9,
   "metadata": {},
   "outputs": [
    {
     "data": {
      "text/plain": [
       "57591.1875"
      ]
     },
     "execution_count": 9,
     "metadata": {},
     "output_type": "execute_result"
    }
   ],
   "source": [
    "np.var([2,5,-512,98], ddof=0)"
   ]
  },
  {
   "cell_type": "markdown",
   "metadata": {},
   "source": [
    "#### Task 4. \n",
    "1. Сгенерируйте Series из 100 значений нормально распределённой СВ (np.random.normal с дефолтными параметрами - нулевым средним и единичной дисперсией).\n",
    "2. Возведите каждое значение серии в 3 степень, а значения индекса увеличьте в 3 раза. \n",
    "3. Ответьте на следующие вопросы через запятую (без пробелов) (\\*)\n",
    "    - 1) Выведите сумму элементов, строго меньших 2.6, имеющих нечётные значения индекса. \n",
    "    - 2) Выведите количество значений серии меньше нуля.\n",
    "    \n",
    "-15.15,51\n",
    "\n",
    "#### Пояснения:\n",
    "(\\*) Если получились ответы 3, 4.32, то в форму необходимо внести их в виде \"3,4.32\". То есть вещественные числа необходимо разделять точками. Не забудьте про фиксированный seed (его менять не нужно)!\n",
    " - Определенное значение seed нужно, чтобы ответы у всех выполняющих\n",
    "это задание были одинаковые и их можно было проверить (так как генерируются\n",
    "одинаковые series).\n",
    " - Следует внимательнее использовать [ ] для выбора данных по нескольким условиям:\n",
    "либо выбирать данные последовательно, либо сразу по нескольким условиям,\n",
    "но через оператор &. Отличие оператора and от оператора &: and - выводит\n",
    "последнее проверенное значение, & - выводит пересечение значений.\n",
    "Пример: s[ _  &  _ ].sum() "
   ]
  },
  {
   "cell_type": "code",
   "execution_count": 10,
   "metadata": {
    "ExecuteTime": {
     "end_time": "2020-04-23T10:18:35.713300Z",
     "start_time": "2020-04-23T10:18:35.710616Z"
    }
   },
   "outputs": [
    {
     "data": {
      "text/plain": [
       "0    -0.357519\n",
       "1     0.148448\n",
       "2     0.993531\n",
       "3     1.838968\n",
       "4    -0.744026\n",
       "        ...   \n",
       "95    0.950296\n",
       "96    0.737315\n",
       "97   -0.739985\n",
       "98   -1.376260\n",
       "99    0.052260\n",
       "Length: 100, dtype: float64"
      ]
     },
     "execution_count": 10,
     "metadata": {},
     "output_type": "execute_result"
    }
   ],
   "source": [
    "np.random.seed(242)\n",
    "### Type your code here\n",
    "s = pd.Series(np.random.normal(size=100))\n",
    "s"
   ]
  },
  {
   "cell_type": "code",
   "execution_count": 11,
   "metadata": {},
   "outputs": [
    {
     "data": {
      "text/plain": [
       "0    -0.045698\n",
       "1     0.003271\n",
       "2     0.980718\n",
       "3     6.219024\n",
       "4    -0.411874\n",
       "        ...   \n",
       "95    0.858176\n",
       "96    0.400829\n",
       "97   -0.405199\n",
       "98   -2.606764\n",
       "99    0.000143\n",
       "Length: 100, dtype: float64"
      ]
     },
     "execution_count": 11,
     "metadata": {},
     "output_type": "execute_result"
    }
   ],
   "source": [
    "s1 = s ** 3\n",
    "s1"
   ]
  },
  {
   "cell_type": "code",
   "execution_count": 12,
   "metadata": {},
   "outputs": [
    {
     "data": {
      "text/plain": [
       "0     -0.045698\n",
       "3      0.003271\n",
       "6      0.980718\n",
       "9      6.219024\n",
       "12    -0.411874\n",
       "         ...   \n",
       "285    0.858176\n",
       "288    0.400829\n",
       "291   -0.405199\n",
       "294   -2.606764\n",
       "297    0.000143\n",
       "Length: 100, dtype: float64"
      ]
     },
     "execution_count": 12,
     "metadata": {},
     "output_type": "execute_result"
    }
   ],
   "source": [
    "s1.index  = s.index * 3\n",
    "s1"
   ]
  },
  {
   "cell_type": "code",
   "execution_count": 13,
   "metadata": {},
   "outputs": [
    {
     "data": {
      "text/plain": [
       "0     -0.045698\n",
       "3      0.003271\n",
       "6      0.980718\n",
       "12    -0.411874\n",
       "15    -0.029601\n",
       "         ...   \n",
       "285    0.858176\n",
       "288    0.400829\n",
       "291   -0.405199\n",
       "294   -2.606764\n",
       "297    0.000143\n",
       "Length: 92, dtype: float64"
      ]
     },
     "execution_count": 13,
     "metadata": {},
     "output_type": "execute_result"
    }
   ],
   "source": [
    "s2 = s1[s1 < 2.6]\n",
    "s2"
   ]
  },
  {
   "cell_type": "code",
   "execution_count": 14,
   "metadata": {},
   "outputs": [
    {
     "data": {
      "text/plain": [
       "-15.150748101821666"
      ]
     },
     "execution_count": 14,
     "metadata": {},
     "output_type": "execute_result"
    }
   ],
   "source": [
    "s3 = s2.loc[s2.index % 2 == 1]\n",
    "s3.sum()"
   ]
  },
  {
   "cell_type": "code",
   "execution_count": 15,
   "metadata": {},
   "outputs": [
    {
     "data": {
      "text/plain": [
       "51"
      ]
     },
     "execution_count": 15,
     "metadata": {},
     "output_type": "execute_result"
    }
   ],
   "source": [
    "s4 = s1[s1 < 0]\n",
    "s4.count()"
   ]
  },
  {
   "cell_type": "markdown",
   "metadata": {},
   "source": [
    "### Информация для последующих заданий\n",
    "- Для всех последующих заданий будем использовать обезличенные транзакционные банковские данные. Для этого считайте в переменные tr_mcc_codes, tr_types, transactions и gender_train из одноимённых таблиц из папки data. Для таблицы transactions используйте только первые n=1000000 строк. Обратите внимание на разделители внутри каждого из файлов - они могут различаться!"
   ]
  },
  {
   "cell_type": "code",
   "execution_count": 16,
   "metadata": {
    "ExecuteTime": {
     "end_time": "2020-04-23T10:19:13.080203Z",
     "start_time": "2020-04-23T10:19:13.077711Z"
    }
   },
   "outputs": [],
   "source": [
    "### Type your code here\n"
   ]
  },
  {
   "cell_type": "markdown",
   "metadata": {},
   "source": [
    "## Описание данных\n",
    "### Таблица ```transactions.csv```\n",
    "##### Описание\n",
    "Таблица содержит историю транзакций клиентов банка за один год и три месяца.\n",
    "\n",
    "##### Формат данных\n",
    "\n",
    "```\n",
    "customer_id,tr_datetime,mcc_code,tr_type,amount,term_id\n",
    "111111,15 01:40:52,1111,1000,-5224,111111\n",
    "111112,15 15:18:32,3333,2000,-100,11122233\n",
    "...\n",
    "```\n",
    "##### Описание полей\n",
    "\n",
    " - ```customer_id``` — идентификатор клиента;\n",
    " - ```tr_datetime``` — день и время совершения транзакции (дни нумеруются с начала данных);\n",
    " - ```mcc_code``` — mcc-код транзакции;\n",
    " - ```tr_type``` — тип транзакции;\n",
    " - ```amount``` — сумма транзакции в условных единицах со знаком; ```+``` — начисление средств клиенту (приходная транзакция), ```-``` — списание средств (расходная транзакция);\n",
    " - ```term_id``` — идентификатор терминала;\n",
    "\n",
    "\n",
    "### Таблица ```gender_train.csv```\n",
    "\n",
    "##### Описание\n",
    "Данная таблица содержит информацию по полу для части клиентов, для которых он известен. Для остальных клиентов пол неизвестен.\n",
    "\n",
    "##### Формат данных\n",
    "```\n",
    "customer_id,gender\n",
    "111111,0\n",
    "111112,1\n",
    "...\n",
    "```\n",
    "\n",
    "##### Описание полей\n",
    " - ```customer_id``` — идентификатор клиента;\n",
    " - ```gender``` — пол клиента;\n",
    "\n",
    "### Таблица ```tr_mcc_codes.csv```\n",
    "\n",
    "##### Описание\n",
    "Данная таблица содержит описание mcc-кодов транзакций.\n",
    "\n",
    "##### Формат данных\n",
    "```\n",
    "mcc_code;mcc_description\n",
    "1000;словесное описание mcc-кода 1000\n",
    "2000;словесное описание mcc-кода 2000\n",
    "...\n",
    "```\n",
    "\n",
    "##### Описание полей\n",
    " - ```mcc_code``` – mcc-код транзакции;\n",
    " - ```mcc_description``` — описание mcc-кода транзакции.\n",
    "\n",
    "### Таблица ```tr_types.csv```\n",
    "\n",
    "##### Описание\n",
    "Данная таблица содержит описание типов транзакций.\n",
    "\n",
    "##### Формат данных\n",
    "```\n",
    "tr_type;tr_description\n",
    "1000;словесное описание типа транзакции 1000\n",
    "2000;словесное описание типа транзакции 2000\n",
    "...\n",
    "```\n",
    "\n",
    "##### Описание полей\n",
    " - ```tr_type``` – тип транзакции;\n",
    " - ```tr_description``` — описание типа транзакции;"
   ]
  },
  {
   "cell_type": "markdown",
   "metadata": {},
   "source": [
    "#### Task 5.\n",
    "1. В tr_types выберите произвольные 100 строк с помощью метода sample (указав при этом random_seed равный 242)\n",
    "2. В полученной на предыдущем этапе подвыборке найдите долю наблюдений (стобец tr_description), в которой содержится подстрока 'плата' (в любом регистре). (\\*)\n",
    "\n",
    "0.26\n",
    "\n",
    "Выведите ответ в виде вещественного числа, округлённого до двух знаков после запятой, отделив дробную часть точкой в формате \"123.45\"\n",
    "\n",
    "##### Пояснения:\n",
    "(\\*) Строки \"ПлатА за аренду\", \"ПлатАза аренду\", \"ПЛАТА\" удовлетворяют условию, так как будучи переведёнными в нижний регистр содержат подстроку \"плата\"."
   ]
  },
  {
   "cell_type": "code",
   "execution_count": 40,
   "metadata": {
    "ExecuteTime": {
     "end_time": "2020-04-23T10:19:45.872766Z",
     "start_time": "2020-04-23T10:19:45.870317Z"
    },
    "scrolled": true
   },
   "outputs": [
    {
     "data": {
      "text/html": [
       "<div>\n",
       "<style scoped>\n",
       "    .dataframe tbody tr th:only-of-type {\n",
       "        vertical-align: middle;\n",
       "    }\n",
       "\n",
       "    .dataframe tbody tr th {\n",
       "        vertical-align: top;\n",
       "    }\n",
       "\n",
       "    .dataframe thead th {\n",
       "        text-align: right;\n",
       "    }\n",
       "</style>\n",
       "<table border=\"1\" class=\"dataframe\">\n",
       "  <thead>\n",
       "    <tr style=\"text-align: right;\">\n",
       "      <th></th>\n",
       "      <th>tr_type</th>\n",
       "      <th>tr_description</th>\n",
       "    </tr>\n",
       "  </thead>\n",
       "  <tbody>\n",
       "    <tr>\n",
       "      <th>37</th>\n",
       "      <td>6210</td>\n",
       "      <td>Возврат покупки.POS Зарубеж. ТУ</td>\n",
       "    </tr>\n",
       "    <tr>\n",
       "      <th>50</th>\n",
       "      <td>7034</td>\n",
       "      <td>Перевод на карту/ с карты через АТМ (без взима...</td>\n",
       "    </tr>\n",
       "    <tr>\n",
       "      <th>145</th>\n",
       "      <td>2431</td>\n",
       "      <td>Перевод с карты на счет физ.лица в другом банк...</td>\n",
       "    </tr>\n",
       "    <tr>\n",
       "      <th>4</th>\n",
       "      <td>4001</td>\n",
       "      <td>Плата за получение наличных в Сбербанке (в дру...</td>\n",
       "    </tr>\n",
       "    <tr>\n",
       "      <th>69</th>\n",
       "      <td>8000</td>\n",
       "      <td>Поправки по счету клиен. Зачисл.</td>\n",
       "    </tr>\n",
       "    <tr>\n",
       "      <th>...</th>\n",
       "      <td>...</td>\n",
       "      <td>...</td>\n",
       "    </tr>\n",
       "    <tr>\n",
       "      <th>24</th>\n",
       "      <td>4100</td>\n",
       "      <td>Плата за получение наличных. Россия</td>\n",
       "    </tr>\n",
       "    <tr>\n",
       "      <th>130</th>\n",
       "      <td>2371</td>\n",
       "      <td>Списание с карты на карту по операции &lt;перевод...</td>\n",
       "    </tr>\n",
       "    <tr>\n",
       "      <th>140</th>\n",
       "      <td>2421</td>\n",
       "      <td>Перевод с карты на счет физ.лица в другом тер....</td>\n",
       "    </tr>\n",
       "    <tr>\n",
       "      <th>6</th>\n",
       "      <td>4011</td>\n",
       "      <td>Плата за получение наличных в АТМ Сбербанка (в...</td>\n",
       "    </tr>\n",
       "    <tr>\n",
       "      <th>52</th>\n",
       "      <td>7040</td>\n",
       "      <td>Перевод на карту (с карты) через POS (в предел...</td>\n",
       "    </tr>\n",
       "  </tbody>\n",
       "</table>\n",
       "<p>100 rows × 2 columns</p>\n",
       "</div>"
      ],
      "text/plain": [
       "     tr_type                                     tr_description\n",
       "37      6210                    Возврат покупки.POS Зарубеж. ТУ\n",
       "50      7034  Перевод на карту/ с карты через АТМ (без взима...\n",
       "145     2431  Перевод с карты на счет физ.лица в другом банк...\n",
       "4       4001  Плата за получение наличных в Сбербанке (в дру...\n",
       "69      8000                   Поправки по счету клиен. Зачисл.\n",
       "..       ...                                                ...\n",
       "24      4100                Плата за получение наличных. Россия\n",
       "130     2371  Списание с карты на карту по операции <перевод...\n",
       "140     2421  Перевод с карты на счет физ.лица в другом тер....\n",
       "6       4011  Плата за получение наличных в АТМ Сбербанка (в...\n",
       "52      7040  Перевод на карту (с карты) через POS (в предел...\n",
       "\n",
       "[100 rows x 2 columns]"
      ]
     },
     "execution_count": 40,
     "metadata": {},
     "output_type": "execute_result"
    }
   ],
   "source": [
    "### Type your code here\n",
    "import random\n",
    "import re\n",
    "np.random.seed(242)\n",
    "df = pd.read_csv(\"../data/tr_types.csv\", sep=';').sample(100)\n",
    "df1 = df[df.tr_description.str.contains(r\"[П,п][Л,л][А,а][Т,т][А,а]\")]\n",
    "df1.count()"
   ]
  },
  {
   "cell_type": "markdown",
   "metadata": {},
   "source": [
    "#### Task 6. \n",
    "1. Для поля tr_type датафрейма transactions посчитайте частоту встречаемости всех типов транзакций tr_type в transactions.\n",
    "2. Из перечисленных вариантов выберите те, которые попали в топ-5 транзакций по частоте встречаемости.\n",
    "\n",
    "#### Выберите все верные пункты:\n",
    "    + 1) Выдача наличных в АТМ Сбербанк России\n",
    "    - 2) Комиссия за обслуживание ссудного счета\n",
    "    - 3) Списание по требованию\t\n",
    "    + 4) Оплата услуги. Банкоматы СБ РФ\n",
    "    - 5) Погашение кредита (в пределах одного филиала)\n",
    "    + 6) Покупка. POS ТУ СБ РФ"
   ]
  },
  {
   "cell_type": "code",
   "execution_count": 78,
   "metadata": {
    "ExecuteTime": {
     "end_time": "2020-04-23T10:20:31.273965Z",
     "start_time": "2020-04-23T10:20:31.271483Z"
    }
   },
   "outputs": [],
   "source": [
    "### Type your code here\n",
    "transactions = pd.read_csv(\"../data/transactions.csv\", sep=',',nrows=1000000)\n",
    "df = pd.read_csv(\"../data/tr_types.csv\", sep=';')\n",
    "df1 = transactions.groupby('tr_type')\n",
    "dict = df1.size()\n",
    "list_d = list(dict.items())\n",
    "list_d.sort(key=lambda i: i[1])\n",
    "#list_d\n"
   ]
  },
  {
   "cell_type": "code",
   "execution_count": 76,
   "metadata": {},
   "outputs": [
    {
     "data": {
      "text/html": [
       "<div>\n",
       "<style scoped>\n",
       "    .dataframe tbody tr th:only-of-type {\n",
       "        vertical-align: middle;\n",
       "    }\n",
       "\n",
       "    .dataframe tbody tr th {\n",
       "        vertical-align: top;\n",
       "    }\n",
       "\n",
       "    .dataframe thead th {\n",
       "        text-align: right;\n",
       "    }\n",
       "</style>\n",
       "<table border=\"1\" class=\"dataframe\">\n",
       "  <thead>\n",
       "    <tr style=\"text-align: right;\">\n",
       "      <th></th>\n",
       "      <th>tr_type</th>\n",
       "      <th>tr_description</th>\n",
       "    </tr>\n",
       "  </thead>\n",
       "  <tbody>\n",
       "    <tr>\n",
       "      <th>59</th>\n",
       "      <td>7070</td>\n",
       "      <td>Перевод на карту (с карты) через Мобильный бан...</td>\n",
       "    </tr>\n",
       "    <tr>\n",
       "      <th>98</th>\n",
       "      <td>1010</td>\n",
       "      <td>Покупка. POS ТУ СБ РФ</td>\n",
       "    </tr>\n",
       "    <tr>\n",
       "      <th>99</th>\n",
       "      <td>1030</td>\n",
       "      <td>Оплата услуги. Банкоматы СБ РФ</td>\n",
       "    </tr>\n",
       "    <tr>\n",
       "      <th>101</th>\n",
       "      <td>1110</td>\n",
       "      <td>Покупка. POS ТУ Россия</td>\n",
       "    </tr>\n",
       "    <tr>\n",
       "      <th>106</th>\n",
       "      <td>2010</td>\n",
       "      <td>Выдача наличных в АТМ Сбербанк России</td>\n",
       "    </tr>\n",
       "  </tbody>\n",
       "</table>\n",
       "</div>"
      ],
      "text/plain": [
       "     tr_type                                     tr_description\n",
       "59      7070  Перевод на карту (с карты) через Мобильный бан...\n",
       "98      1010                              Покупка. POS ТУ СБ РФ\n",
       "99      1030                     Оплата услуги. Банкоматы СБ РФ\n",
       "101     1110                             Покупка. POS ТУ Россия\n",
       "106     2010              Выдача наличных в АТМ Сбербанк России"
      ]
     },
     "execution_count": 76,
     "metadata": {},
     "output_type": "execute_result"
    }
   ],
   "source": [
    "def func(val):\n",
    "    a = [1010, 2020, 7070, 1110, 1030]\n",
    "    for x in a:\n",
    "        if val == x:\n",
    "            return True\n",
    "    return False\n",
    "#df[func(df.tr_tye).all()]\n",
    "df.query(\"(tr_type == 1010) or (tr_type == 2010) or (tr_type == 7070) or (tr_type == 1110) or (tr_type == 1030)\")"
   ]
  },
  {
   "cell_type": "markdown",
   "metadata": {},
   "source": [
    "#### Task 7.\n",
    "1. В датафрейме transactions задайте столбец  customer_id в качестве индекса.\n",
    "2. Выделите клиента с максимальной суммой транзакции (то есть с максимальным приходом на карту). (\\*)\n",
    "3. Найдите у него наиболее часто встречающийся модуль суммы приходов/расходов. (\\**)\n",
    "\n",
    "\n",
    "#### Выберите все верные пункты:\n",
    "    + 1) 1122957.89\n",
    "    - 2) 15721.41\n",
    "    - 3) 22459.16\n",
    "    + 4) 13475494.63\n",
    "    - 5) 107407.78\n",
    "    - 6) 65019.26\n",
    "\n",
    "##### Пояснения:\n",
    "(\\*) Если у клиента были транзакции [-10000, 10, 0, -10], то максимумом будет являться значение 10. <br>\n",
    "(\\**) Если у клиента были транзакции [-10000, 10, 0, -10], то наиболее встречающийся модуль суммы транзакций равен 10, и встретился он 2 раза."
   ]
  },
  {
   "cell_type": "code",
   "execution_count": 149,
   "metadata": {
    "ExecuteTime": {
     "end_time": "2020-04-23T10:20:53.265495Z",
     "start_time": "2020-04-23T10:20:53.263208Z"
    },
    "scrolled": true
   },
   "outputs": [
    {
     "data": {
      "text/html": [
       "<div>\n",
       "<style scoped>\n",
       "    .dataframe tbody tr th:only-of-type {\n",
       "        vertical-align: middle;\n",
       "    }\n",
       "\n",
       "    .dataframe tbody tr th {\n",
       "        vertical-align: top;\n",
       "    }\n",
       "\n",
       "    .dataframe thead th {\n",
       "        text-align: right;\n",
       "    }\n",
       "</style>\n",
       "<table border=\"1\" class=\"dataframe\">\n",
       "  <thead>\n",
       "    <tr style=\"text-align: right;\">\n",
       "      <th></th>\n",
       "      <th>customer_id</th>\n",
       "      <th>tr_datetime</th>\n",
       "      <th>mcc_code</th>\n",
       "      <th>tr_type</th>\n",
       "      <th>amount</th>\n",
       "      <th>term_id</th>\n",
       "      <th>check</th>\n",
       "    </tr>\n",
       "  </thead>\n",
       "  <tbody>\n",
       "    <tr>\n",
       "      <th>308717</th>\n",
       "      <td>26782922</td>\n",
       "      <td>331 22:29:46</td>\n",
       "      <td>6010</td>\n",
       "      <td>7070</td>\n",
       "      <td>1122957.89</td>\n",
       "      <td>888903</td>\n",
       "      <td>1122957.89</td>\n",
       "    </tr>\n",
       "    <tr>\n",
       "      <th>308739</th>\n",
       "      <td>26782922</td>\n",
       "      <td>362 15:15:35</td>\n",
       "      <td>6010</td>\n",
       "      <td>7070</td>\n",
       "      <td>1122957.89</td>\n",
       "      <td>888986</td>\n",
       "      <td>1122957.89</td>\n",
       "    </tr>\n",
       "  </tbody>\n",
       "</table>\n",
       "</div>"
      ],
      "text/plain": [
       "        customer_id   tr_datetime  mcc_code  tr_type      amount term_id  \\\n",
       "308717     26782922  331 22:29:46      6010     7070  1122957.89  888903   \n",
       "308739     26782922  362 15:15:35      6010     7070  1122957.89  888986   \n",
       "\n",
       "             check  \n",
       "308717  1122957.89  \n",
       "308739  1122957.89  "
      ]
     },
     "execution_count": 149,
     "metadata": {},
     "output_type": "execute_result"
    }
   ],
   "source": [
    "### Type your code hered\n",
    "df_index = transactions.set_index(['customer_id'])\n",
    "transactions.amount.sort_values(ascending=False)\n",
    "pd.set_option('display.max_columns', None)\n",
    "pd.set_option('display.max_rows', None)\n",
    "#transactions['check'] = transactions['amount']\n",
    "def func1(el):\n",
    "    if el > 0:\n",
    "        return 1\n",
    "    return 0\n",
    "#transactions.check = func1(transactions.check)\n",
    "df1 = transactions[transactions.customer_id == 26782922]\n",
    "df1[df1.amount == 1122957.89]"
   ]
  },
  {
   "cell_type": "markdown",
   "metadata": {},
   "source": [
    "#### Task 8.\n",
    "1. Найдите максимальную разницу между медианами суммы транзакций, посчитанными при заданных ниже условиях по полю amount из таблицы transactions (\\*):\n",
    "    - Медиана суммы транзакций\n",
    "    - Медиана суммы транзакций по тем строкам, которые ни в одном из своих столбцов не содержат пустые значения\n",
    "    - Медиана суммы транзакций по строкам, отсортированным по полю amount в порядке возрастания, и из которых удалены дублирующиеся по столбцам [mcc_code, tr_type] строки, причём при удалении соответстующих дублей остаются только последние из дублирующихся строк (keep='last')\n",
    "\n",
    "Выведите ответ в виде вещественного числа, округлённого до двух знаков после запятой, отделив дробную часть точкой в формате \"123.45\"\n",
    "\n",
    "##### Пояснения:\n",
    "(\\*) Для вычисления максимальной разницы между значениями списка можно использовать функцию np.ptp  \n",
    "(\\**) Если в результате получились значения [1,3,5], то макимальная разница между ними 4 == 5-1."
   ]
  },
  {
   "cell_type": "code",
   "execution_count": 143,
   "metadata": {
    "ExecuteTime": {
     "end_time": "2020-04-23T10:21:36.645933Z",
     "start_time": "2020-04-23T10:21:36.643612Z"
    },
    "scrolled": true
   },
   "outputs": [
    {
     "data": {
      "text/plain": [
       "4693.96"
      ]
     },
     "execution_count": 143,
     "metadata": {},
     "output_type": "execute_result"
    }
   ],
   "source": [
    "### Type your code here\n",
    "pd.set_option('display.max_columns', 30)\n",
    "pd.set_option('display.max_rows', 30)\n",
    "transactions.amount.median()\n",
    "df = transactions.dropna()\n",
    "df.amount.median()\n",
    "df1 = transactions.sort_values(by = 'amount').drop_duplicates(['mcc_code', 'tr_type'], keep='last')\n",
    "df1.amount.median()\n",
    "a = [-5614.79, -5596.6, -920.83]\n",
    "np.ptp(a)\n",
    "#-5614.79 + 920.83"
   ]
  },
  {
   "cell_type": "code",
   "execution_count": null,
   "metadata": {},
   "outputs": [],
   "source": []
  }
 ],
 "metadata": {
  "hide_input": false,
  "kernelspec": {
   "display_name": "Python 3",
   "language": "python",
   "name": "python3"
  },
  "language_info": {
   "codemirror_mode": {
    "name": "ipython",
    "version": 3
   },
   "file_extension": ".py",
   "mimetype": "text/x-python",
   "name": "python",
   "nbconvert_exporter": "python",
   "pygments_lexer": "ipython3",
   "version": "3.8.5"
  },
  "toc": {
   "base_numbering": 1,
   "nav_menu": {},
   "number_sections": true,
   "sideBar": true,
   "skip_h1_title": false,
   "title_cell": "Table of Contents",
   "title_sidebar": "Contents",
   "toc_cell": true,
   "toc_position": {},
   "toc_section_display": true,
   "toc_window_display": false
  },
  "varInspector": {
   "cols": {
    "lenName": 16,
    "lenType": 16,
    "lenVar": 40
   },
   "kernels_config": {
    "python": {
     "delete_cmd_postfix": "",
     "delete_cmd_prefix": "del ",
     "library": "var_list.py",
     "varRefreshCmd": "print(var_dic_list())"
    },
    "r": {
     "delete_cmd_postfix": ") ",
     "delete_cmd_prefix": "rm(",
     "library": "var_list.r",
     "varRefreshCmd": "cat(var_dic_list()) "
    }
   },
   "types_to_exclude": [
    "module",
    "function",
    "builtin_function_or_method",
    "instance",
    "_Feature"
   ],
   "window_display": false
  }
 },
 "nbformat": 4,
 "nbformat_minor": 2
}
